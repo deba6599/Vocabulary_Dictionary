{
 "cells": [
  {
   "cell_type": "code",
   "execution_count": null,
   "metadata": {},
   "outputs": [],
   "source": [
    "from bs4 import BeautifulSoup as bs\n",
    "import requests\n",
    "\n",
    "root = 'https://www.vocabulary.com/dictionary/'\n",
    "\n",
    "def diction(y):\n",
    "    res = ''\n",
    "    url = root+y\n",
    "    r = requests.get(url)\n",
    "    soup = bs(r.content,\"html.parser\")\n",
    "    definitions = soup.find_all(\"div\",{\"class\":\"definition\"})\n",
    "    if len(definitions)==0:\n",
    "        res += \"Word not found.\"\n",
    "        return res\n",
    "    else:\n",
    "        for i in definitions:\n",
    "            res += i.text\n",
    "        return res\n",
    "\n",
    "def send():\n",
    "    msg = Entrybox.get(\"1.21\",\"end-1c\")\n",
    "    Entrybox.delete(\"0.0\",END)\n",
    "    Entrybox.insert(END,\"Enter the word here: \")\n",
    "\n",
    "    if msg != '':\n",
    "        Chatlog.config(state=NORMAL)\n",
    "        Chatlog.delete(\"0.0\",END)\n",
    "        Chatlog.insert(END,\"Word:\"+ msg + '\\n\\n')\n",
    "        Chatlog.config(foreground=\"#442265\",font=(\"Verdana\",12))\n",
    "\n",
    "        res = diction(msg)\n",
    "        Chatlog.insert(END,\"Meaning:\"+ res + '\\n\\n')\n",
    "\n",
    "        Chatlog.config(state=NORMAL)\n",
    "\n",
    "\n",
    "from tkinter import *\n",
    "top = Tk()\n",
    "top.geometry('400x600')\n",
    "top.resizable(height=FALSE,width=FALSE)\n",
    "top.title(\"Dictionary\")\n",
    "top.configure(bg='yellow')\n",
    "\n",
    "#Bind scrollbar to Chat window\n",
    "scroll = Scrollbar(top)\n",
    "scroll.place(x=369,y=6,height=430)\n",
    "\n",
    "#Create Chat window\n",
    "Chatlog = Text(top,bd=0,bg='white',width=50,height=8,font='Arial',yscrollcommand=scroll.set)\n",
    "Chatlog.config(state=DISABLED)\n",
    "Chatlog.place(x=20,y=6,height=430,width=350)\n",
    "\n",
    "scroll.config(command=Chatlog.yview())\n",
    "\n",
    "#Create button to tell the bot\n",
    "B = Button(top,text=\"OK\",width=10,height=2,bg='green',command=send)\n",
    "\n",
    "#Create box to enter text\n",
    "Entrybox = Text(top,bd=0,bg='white',width=29,height=5,font='Arial')\n",
    "Entrybox.insert(END,\"Enter the word here: \")\n",
    "Entrybox.bind('<Return>',None)\n",
    "\n",
    "\n",
    "#Place all components in screen\n",
    "#scroll.pack(side=RIGHT,fill=Y)\n",
    "Entrybox.place(x=20,y=455,height=90,width=360)\n",
    "B.place(x=310,y=550)\n",
    "\n",
    "top.mainloop()"
   ]
  },
  {
   "cell_type": "code",
   "execution_count": 10,
   "metadata": {},
   "outputs": [
    {
     "name": "stdout",
     "output_type": "stream",
     "text": [
      "Collecting lxml"
     ]
    },
    {
     "name": "stderr",
     "output_type": "stream",
     "text": [
      "WARNING: You are using pip version 20.1.1; however, version 20.3.3 is available.\n",
      "You should consider upgrading via the 'c:\\users\\dell\\pycharmprojects\\untitled\\venv\\scripts\\python.exe -m pip install --upgrade pip' command.\n"
     ]
    },
    {
     "name": "stdout",
     "output_type": "stream",
     "text": [
      "\n",
      "  Downloading lxml-4.6.2-cp37-cp37m-win_amd64.whl (3.5 MB)\n",
      "Installing collected packages: lxml\n",
      "Successfully installed lxml-4.6.2\n"
     ]
    }
   ],
   "source": [
    "!pip install lxml"
   ]
  },
  {
   "cell_type": "code",
   "execution_count": null,
   "metadata": {},
   "outputs": [],
   "source": []
  }
 ],
 "metadata": {
  "kernelspec": {
   "display_name": "Python 3",
   "language": "python",
   "name": "python3"
  },
  "language_info": {
   "codemirror_mode": {
    "name": "ipython",
    "version": 3
   },
   "file_extension": ".py",
   "mimetype": "text/x-python",
   "name": "python",
   "nbconvert_exporter": "python",
   "pygments_lexer": "ipython3",
   "version": "3.7.5"
  }
 },
 "nbformat": 4,
 "nbformat_minor": 4
}
